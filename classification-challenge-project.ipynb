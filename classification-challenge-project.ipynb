{
 "cells": [
  {
   "cell_type": "code",
   "execution_count": 1,
   "id": "08803f57-2ac3-49f6-b09e-5aa3a4360bfa",
   "metadata": {},
   "outputs": [
    {
     "name": "stderr",
     "output_type": "stream",
     "text": [
      "2023-05-29 10:06:53.901335: I tensorflow/tsl/cuda/cudart_stub.cc:28] Could not find cuda drivers on your machine, GPU will not be used.\n",
      "2023-05-29 10:06:54.379657: I tensorflow/tsl/cuda/cudart_stub.cc:28] Could not find cuda drivers on your machine, GPU will not be used.\n",
      "2023-05-29 10:06:54.381461: I tensorflow/core/platform/cpu_feature_guard.cc:182] This TensorFlow binary is optimized to use available CPU instructions in performance-critical operations.\n",
      "To enable the following instructions: AVX2 AVX512F FMA, in other operations, rebuild TensorFlow with the appropriate compiler flags.\n",
      "2023-05-29 10:06:56.910891: W tensorflow/compiler/tf2tensorrt/utils/py_utils.cc:38] TF-TRT Warning: Could not find TensorRT\n"
     ]
    }
   ],
   "source": [
    "import tensorflow as tf\n",
    "from tensorflow import keras\n",
    "from tensorflow.keras.models import Sequential\n",
    "from tensorflow.keras.preprocessing.image import ImageDataGenerator\n",
    "\n",
    "from sklearn.metrics import classification_report\n",
    "from sklearn.metrics import confusion_matrix\n",
    "\n",
    "from tensorflow.keras.callbacks import EarlyStopping\n",
    "from tensorflow.keras import layers\n",
    "from tensorflow.keras import Input\n",
    "from tensorflow.keras.optimizers import Adam\n",
    "from tensorflow.keras import losses\n",
    "from tensorflow.keras import metrics\n",
    "\n",
    "import matplotlib.pyplot as plt\n",
    "import numpy"
   ]
  },
  {
   "cell_type": "code",
   "execution_count": 2,
   "id": "fbf2a69e-8c9a-4b8a-9e2d-761da7195985",
   "metadata": {},
   "outputs": [],
   "source": [
    "data_generator = ImageDataGenerator(rescale=1.0/255., zoom_range=0.2, rotation_range=15,\n",
    "                                             width_shift_range=0.05, height_shift_range=0.05)"
   ]
  },
  {
   "cell_type": "code",
   "execution_count": 3,
   "id": "6e0ce8f6-7469-4eeb-9c3a-27b9f256c5fe",
   "metadata": {},
   "outputs": [],
   "source": [
    "DIRECTORY_TRAIN = \"./Covid19-dataset/train\"\n",
    "DIRECTORY_TEST = \"./Covid19-dataset/test\"\n",
    "CLASS_MODE = \"categorical\"\n",
    "COLOR_MODE = \"grayscale\"\n",
    "TARGET_SIZE = (256, 256)\n",
    "BATCH_SIZE = 32"
   ]
  },
  {
   "cell_type": "code",
   "execution_count": 4,
   "id": "7644dc59-02c4-461c-827e-aa993fbedf35",
   "metadata": {},
   "outputs": [
    {
     "name": "stdout",
     "output_type": "stream",
     "text": [
      "Found 251 images belonging to 3 classes.\n"
     ]
    }
   ],
   "source": [
    "training_iterator = data_generator.flow_from_directory(DIRECTORY_TRAIN, class_mode=CLASS_MODE, color_mode=COLOR_MODE, \n",
    "                                                               target_size=TARGET_SIZE, batch_size=BATCH_SIZE)"
   ]
  },
  {
   "cell_type": "code",
   "execution_count": 5,
   "id": "3f4fef8f-cad2-4f24-8a5e-2c191acd2304",
   "metadata": {},
   "outputs": [],
   "source": [
    "sample_batch_input, sample_batch_labels = training_iterator.next()"
   ]
  },
  {
   "cell_type": "code",
   "execution_count": 6,
   "id": "aaec8453-9098-4051-b142-cf1ac12a46c0",
   "metadata": {},
   "outputs": [
    {
     "name": "stdout",
     "output_type": "stream",
     "text": [
      "(32, 256, 256, 1) (32, 3)\n"
     ]
    }
   ],
   "source": [
    "print(sample_batch_input.shape, sample_batch_labels.shape)"
   ]
  },
  {
   "cell_type": "code",
   "execution_count": 7,
   "id": "0f8f29df-888c-4944-a331-bc9d4c1ba3d7",
   "metadata": {},
   "outputs": [
    {
     "name": "stdout",
     "output_type": "stream",
     "text": [
      "Found 66 images belonging to 3 classes.\n"
     ]
    }
   ],
   "source": [
    "validation_iterator = data_generator.flow_from_directory(DIRECTORY_TEST, class_mode=CLASS_MODE, color_mode=COLOR_MODE, \n",
    "                                                               target_size=TARGET_SIZE, batch_size=BATCH_SIZE)"
   ]
  },
  {
   "cell_type": "code",
   "execution_count": 8,
   "id": "583f93c7-bf9a-47aa-874e-3ff8ed9980ae",
   "metadata": {},
   "outputs": [],
   "source": [
    "sample_batch_input, sample_batch_labels = validation_iterator.next()"
   ]
  },
  {
   "cell_type": "code",
   "execution_count": 9,
   "id": "bb8831d2-f8ed-4808-a668-3ae6a6d807a0",
   "metadata": {},
   "outputs": [
    {
     "name": "stdout",
     "output_type": "stream",
     "text": [
      "(32, 256, 256, 1) (32, 3)\n"
     ]
    }
   ],
   "source": [
    "print(sample_batch_input.shape, sample_batch_labels.shape)"
   ]
  },
  {
   "cell_type": "code",
   "execution_count": 10,
   "id": "1badf5a1-a3fd-4f34-897a-4ead7210e929",
   "metadata": {},
   "outputs": [
    {
     "name": "stdout",
     "output_type": "stream",
     "text": [
      "<class 'numpy.ndarray'> <class 'numpy.ndarray'>\n"
     ]
    }
   ],
   "source": [
    "print(type(sample_batch_input), type(sample_batch_labels))"
   ]
  },
  {
   "cell_type": "code",
   "execution_count": 11,
   "id": "d4bc948d-a841-42e8-a027-f2979e88d1fb",
   "metadata": {},
   "outputs": [],
   "source": [
    "def model_design():\n",
    "    model = Sequential(name=\"classification_model\")\n",
    "    model.add(Input(shape=(256, 256, 1)))\n",
    "    model.add(layers.Conv2D(2, 5, strides=3, padding=\"valid\", activation=\"relu\"))\n",
    "    model.add(layers.MaxPooling2D(pool_size=(5, 5), strides=(5, 5)))\n",
    "    model.add(layers.Conv2D(4, 3, strides=1, padding=\"valid\", activation=\"relu\"))\n",
    "    model.add(layers.MaxPooling2D(pool_size=(2, 2), strides=(2, 2))) \n",
    "    model.add(layers.Flatten())\n",
    "    model.add(layers.Dense(3, activation=\"softmax\"))\n",
    "    opt = Adam(learning_rate=0.01)\n",
    "    model.compile(optimizer=opt, loss=losses.CategoricalCrossentropy() , metrics=[metrics.CategoricalAccuracy(), metrics.AUC()])\n",
    "    return model"
   ]
  },
  {
   "cell_type": "code",
   "execution_count": 12,
   "id": "a25b52ea-912c-4e45-a73b-9d0092e3aae4",
   "metadata": {},
   "outputs": [
    {
     "name": "stdout",
     "output_type": "stream",
     "text": [
      "Model: \"classification_model\"\n",
      "_________________________________________________________________\n",
      " Layer (type)                Output Shape              Param #   \n",
      "=================================================================\n",
      " conv2d (Conv2D)             (None, 84, 84, 2)         52        \n",
      "                                                                 \n",
      " max_pooling2d (MaxPooling2D  (None, 16, 16, 2)        0         \n",
      " )                                                               \n",
      "                                                                 \n",
      " conv2d_1 (Conv2D)           (None, 14, 14, 4)         76        \n",
      "                                                                 \n",
      " max_pooling2d_1 (MaxPooling  (None, 7, 7, 4)          0         \n",
      " 2D)                                                             \n",
      "                                                                 \n",
      " flatten (Flatten)           (None, 196)               0         \n",
      "                                                                 \n",
      " dense (Dense)               (None, 3)                 591       \n",
      "                                                                 \n",
      "=================================================================\n",
      "Total params: 719\n",
      "Trainable params: 719\n",
      "Non-trainable params: 0\n",
      "_________________________________________________________________\n",
      "None\n"
     ]
    }
   ],
   "source": [
    "model = model_design()\n",
    "print(model.summary())"
   ]
  },
  {
   "cell_type": "code",
   "execution_count": 14,
   "id": "2fea97bd-2a5b-435c-9c4a-bbf3f0b5c7a7",
   "metadata": {},
   "outputs": [
    {
     "name": "stdout",
     "output_type": "stream",
     "text": [
      "Epoch 1/30\n"
     ]
    },
    {
     "name": "stderr",
     "output_type": "stream",
     "text": [
      "2023-05-29 10:08:16.719256: I tensorflow/core/common_runtime/executor.cc:1197] [/device:CPU:0] (DEBUG INFO) Executor start aborting (this does not indicate an error and you can ignore this message): INVALID_ARGUMENT: You must feed a value for placeholder tensor 'Placeholder/_0' with dtype int32\n",
      "\t [[{{node Placeholder/_0}}]]\n"
     ]
    },
    {
     "name": "stdout",
     "output_type": "stream",
     "text": [
      "8/7 [==============================] - ETA: 0s - loss: 0.5058 - categorical_accuracy: 0.8008 - auc: 0.9325"
     ]
    },
    {
     "name": "stderr",
     "output_type": "stream",
     "text": [
      "2023-05-29 10:08:19.244244: I tensorflow/core/common_runtime/executor.cc:1197] [/device:CPU:0] (DEBUG INFO) Executor start aborting (this does not indicate an error and you can ignore this message): INVALID_ARGUMENT: You must feed a value for placeholder tensor 'Placeholder/_0' with dtype int32\n",
      "\t [[{{node Placeholder/_0}}]]\n"
     ]
    },
    {
     "name": "stdout",
     "output_type": "stream",
     "text": [
      "7/7 [==============================] - 3s 381ms/step - loss: 0.5058 - categorical_accuracy: 0.8008 - auc: 0.9325 - val_loss: 0.5968 - val_categorical_accuracy: 0.8030 - val_auc: 0.9079\n",
      "Epoch 2/30\n",
      "7/7 [==============================] - 3s 347ms/step - loss: 0.4844 - categorical_accuracy: 0.8367 - auc: 0.9376 - val_loss: 0.4870 - val_categorical_accuracy: 0.8333 - val_auc: 0.9346\n",
      "Epoch 3/30\n",
      "7/7 [==============================] - 3s 333ms/step - loss: 0.5028 - categorical_accuracy: 0.8088 - auc: 0.9314 - val_loss: 0.4483 - val_categorical_accuracy: 0.8333 - val_auc: 0.9518\n",
      "Epoch 4/30\n",
      "7/7 [==============================] - 3s 329ms/step - loss: 0.4179 - categorical_accuracy: 0.8486 - auc: 0.9511 - val_loss: 0.6104 - val_categorical_accuracy: 0.6818 - val_auc: 0.8978\n",
      "Epoch 5/30\n",
      "7/7 [==============================] - 3s 332ms/step - loss: 0.4611 - categorical_accuracy: 0.8406 - auc: 0.9417 - val_loss: 0.5920 - val_categorical_accuracy: 0.7121 - val_auc: 0.9023\n",
      "Epoch 6/30\n",
      "7/7 [==============================] - 2s 321ms/step - loss: 0.5339 - categorical_accuracy: 0.7689 - auc: 0.9200 - val_loss: 0.6041 - val_categorical_accuracy: 0.6970 - val_auc: 0.8988\n",
      "Epoch 7/30\n",
      "7/7 [==============================] - 2s 299ms/step - loss: 0.3918 - categorical_accuracy: 0.8566 - auc: 0.9603 - val_loss: 0.5207 - val_categorical_accuracy: 0.7879 - val_auc: 0.9290\n",
      "Epoch 8/30\n",
      "7/7 [==============================] - 3s 341ms/step - loss: 0.3276 - categorical_accuracy: 0.8805 - auc: 0.9706 - val_loss: 0.4799 - val_categorical_accuracy: 0.8333 - val_auc: 0.9338\n",
      "Epoch 9/30\n",
      "7/7 [==============================] - 3s 334ms/step - loss: 0.3472 - categorical_accuracy: 0.8367 - auc: 0.9677 - val_loss: 0.4709 - val_categorical_accuracy: 0.8182 - val_auc: 0.9385\n",
      "Epoch 10/30\n",
      "7/7 [==============================] - 3s 358ms/step - loss: 0.4141 - categorical_accuracy: 0.8566 - auc: 0.9548 - val_loss: 0.5547 - val_categorical_accuracy: 0.7576 - val_auc: 0.9194\n",
      "Epoch 11/30\n",
      "7/7 [==============================] - 3s 359ms/step - loss: 0.3590 - categorical_accuracy: 0.8685 - auc: 0.9645 - val_loss: 0.4580 - val_categorical_accuracy: 0.8333 - val_auc: 0.9462\n",
      "Epoch 12/30\n",
      "7/7 [==============================] - 3s 381ms/step - loss: 0.3478 - categorical_accuracy: 0.8845 - auc: 0.9641 - val_loss: 0.7548 - val_categorical_accuracy: 0.6818 - val_auc: 0.8751\n",
      "Epoch 13/30\n",
      "7/7 [==============================] - 3s 342ms/step - loss: 0.3935 - categorical_accuracy: 0.8406 - auc: 0.9574 - val_loss: 0.4054 - val_categorical_accuracy: 0.8485 - val_auc: 0.9551\n",
      "Epoch 14/30\n",
      "7/7 [==============================] - 3s 327ms/step - loss: 0.4245 - categorical_accuracy: 0.8645 - auc: 0.9493 - val_loss: 0.6016 - val_categorical_accuracy: 0.7727 - val_auc: 0.9019\n",
      "Epoch 15/30\n",
      "7/7 [==============================] - 2s 324ms/step - loss: 0.3499 - categorical_accuracy: 0.8884 - auc: 0.9656 - val_loss: 0.3708 - val_categorical_accuracy: 0.8939 - val_auc: 0.9654\n",
      "Epoch 16/30\n",
      "7/7 [==============================] - 2s 302ms/step - loss: 0.3249 - categorical_accuracy: 0.8725 - auc: 0.9727 - val_loss: 0.4971 - val_categorical_accuracy: 0.8333 - val_auc: 0.9314\n",
      "Epoch 17/30\n",
      "7/7 [==============================] - 2s 297ms/step - loss: 0.3231 - categorical_accuracy: 0.8924 - auc: 0.9713 - val_loss: 0.3880 - val_categorical_accuracy: 0.8485 - val_auc: 0.9633\n",
      "Epoch 18/30\n",
      "7/7 [==============================] - 3s 329ms/step - loss: 0.3311 - categorical_accuracy: 0.8845 - auc: 0.9692 - val_loss: 0.5146 - val_categorical_accuracy: 0.8182 - val_auc: 0.9289\n",
      "Epoch 19/30\n",
      "7/7 [==============================] - 2s 304ms/step - loss: 0.2814 - categorical_accuracy: 0.9084 - auc: 0.9777 - val_loss: 0.4694 - val_categorical_accuracy: 0.8333 - val_auc: 0.9454\n",
      "Epoch 20/30\n",
      "7/7 [==============================] - 2s 291ms/step - loss: 0.3173 - categorical_accuracy: 0.8845 - auc: 0.9710 - val_loss: 0.3573 - val_categorical_accuracy: 0.8485 - val_auc: 0.9633\n",
      "Epoch 21/30\n",
      "7/7 [==============================] - 2s 322ms/step - loss: 0.2845 - categorical_accuracy: 0.9044 - auc: 0.9778 - val_loss: 0.3828 - val_categorical_accuracy: 0.8788 - val_auc: 0.9621\n",
      "Epoch 22/30\n",
      "7/7 [==============================] - 2s 292ms/step - loss: 0.3196 - categorical_accuracy: 0.8924 - auc: 0.9709 - val_loss: 0.5175 - val_categorical_accuracy: 0.7727 - val_auc: 0.9262\n",
      "Epoch 23/30\n",
      "7/7 [==============================] - 2s 303ms/step - loss: 0.2987 - categorical_accuracy: 0.9004 - auc: 0.9745 - val_loss: 0.3786 - val_categorical_accuracy: 0.8636 - val_auc: 0.9574\n",
      "Epoch 24/30\n",
      "7/7 [==============================] - 3s 324ms/step - loss: 0.2640 - categorical_accuracy: 0.9044 - auc: 0.9804 - val_loss: 0.5187 - val_categorical_accuracy: 0.8333 - val_auc: 0.9338\n",
      "Epoch 25/30\n",
      "7/7 [==============================] - 3s 335ms/step - loss: 0.2589 - categorical_accuracy: 0.9283 - auc: 0.9817 - val_loss: 0.3770 - val_categorical_accuracy: 0.8182 - val_auc: 0.9628\n",
      "Epoch 26/30\n",
      "7/7 [==============================] - 2s 313ms/step - loss: 0.2745 - categorical_accuracy: 0.9004 - auc: 0.9771 - val_loss: 0.6071 - val_categorical_accuracy: 0.7576 - val_auc: 0.9129\n",
      "Epoch 27/30\n",
      "7/7 [==============================] - 3s 348ms/step - loss: 0.2690 - categorical_accuracy: 0.8845 - auc: 0.9808 - val_loss: 0.5862 - val_categorical_accuracy: 0.7879 - val_auc: 0.9171\n",
      "Epoch 28/30\n",
      "7/7 [==============================] - 3s 350ms/step - loss: 0.2527 - categorical_accuracy: 0.9203 - auc: 0.9805 - val_loss: 0.4304 - val_categorical_accuracy: 0.8485 - val_auc: 0.9513\n",
      "Epoch 29/30\n",
      "7/7 [==============================] - 3s 375ms/step - loss: 0.2970 - categorical_accuracy: 0.8964 - auc: 0.9739 - val_loss: 0.4284 - val_categorical_accuracy: 0.8485 - val_auc: 0.9535\n",
      "Epoch 30/30\n",
      "7/7 [==============================] - 3s 318ms/step - loss: 0.2868 - categorical_accuracy: 0.9124 - auc: 0.9765 - val_loss: 0.5199 - val_categorical_accuracy: 0.7879 - val_auc: 0.9304\n"
     ]
    },
    {
     "data": {
      "text/plain": [
       "<keras.callbacks.History at 0x7fbe9c486d50>"
      ]
     },
     "execution_count": 14,
     "metadata": {},
     "output_type": "execute_result"
    }
   ],
   "source": [
    "model.fit(training_iterator, steps_per_epoch = training_iterator.samples/BATCH_SIZE, epochs=30,\n",
    "          validation_data = validation_iterator, validation_steps = validation_iterator.samples/BATCH_SIZE)"
   ]
  },
  {
   "cell_type": "code",
   "execution_count": null,
   "id": "0c3470e4-b10f-4cd9-bb5f-ba483ecec7ad",
   "metadata": {},
   "outputs": [],
   "source": []
  }
 ],
 "metadata": {
  "kernelspec": {
   "display_name": "python-ml:Python",
   "language": "python",
   "name": "conda-env-python-ml-py"
  },
  "language_info": {
   "codemirror_mode": {
    "name": "ipython",
    "version": 3
   },
   "file_extension": ".py",
   "mimetype": "text/x-python",
   "name": "python",
   "nbconvert_exporter": "python",
   "pygments_lexer": "ipython3",
   "version": "3.11.0"
  }
 },
 "nbformat": 4,
 "nbformat_minor": 5
}
